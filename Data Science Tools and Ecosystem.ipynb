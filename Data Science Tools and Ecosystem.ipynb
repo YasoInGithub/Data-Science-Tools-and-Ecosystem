{
 "cells": [
  {
   "cell_type": "markdown",
   "id": "fbc045d3-dea7-4130-8fc1-46d723a9db56",
   "metadata": {},
   "source": [
    "# Data Science Tools and Ecosystem\n",
    "In this notebook, Data Science Tools and Ecosystem are summarized.\n"
   ]
  },
  {
   "cell_type": "markdown",
   "id": "a15ebd67-43ea-4a6e-8de0-5f9d1ae731f8",
   "metadata": {},
   "source": [
    "Some of the popular languages that Data Scientists use are:\n",
    "1.Python\n",
    "2.R\n",
    "3.SQL"
   ]
  },
  {
   "cell_type": "markdown",
   "id": "d2f6cf2a-2c40-443c-b4fd-4a70ead46844",
   "metadata": {},
   "source": [
    "##### Objectives:\n",
    "- To create a database \n",
    "- To analyze and extract the potential benefits of datas.\n",
    "- Popular languages for data science are R, python, SQL, and perl."
   ]
  },
  {
   "cell_type": "markdown",
   "id": "be0a8fec-8b61-472c-bd88-b8b2b38890b0",
   "metadata": {},
   "source": [
    "Some of the commonly used libraries used by Data Scientists include:\n",
    "1.Pandas\n",
    "2.Numpy\n",
    "3.Keras\n",
    "4.Matplotlib\n",
    "5.Scikit-learn\n"
   ]
  },
  {
   "cell_type": "markdown",
   "id": "ae33f9c6-ca01-4081-88ca-514afebd61af",
   "metadata": {},
   "source": [
    "|Data Science Tools|\n",
    "|------------------|\n",
    "|R studio          |\n",
    "|Python            |\n",
    "|SQL               |\n",
    "|Tableau           |"
   ]
  },
  {
   "cell_type": "markdown",
   "id": "64a7e76a-dc84-4e67-887a-a188a1b03e0e",
   "metadata": {},
   "source": [
    "### Below are a few examples of evaluating arithmetic expressions in Python.\n",
    "- Addition:  \\(14+78 = 92\\)\n",
    "- Subtraction: \\(6-4 = 2\\)\n"
   ]
  },
  {
   "cell_type": "markdown",
   "id": "1f857acc-61f1-4e89-b953-eacd40146339",
   "metadata": {},
   "source": [
    "### This a simple arithmetic expression to mutiply then add integers\n",
    "- The result of the expression : \\((3*4) + 5\\)) = 17\n"
   ]
  },
  {
   "cell_type": "markdown",
   "id": "11068fd4-a3ec-4e46-aba0-e7d44e738ca7",
   "metadata": {},
   "source": [
    "### This will convert 200 minutes to hours by diving by 60\n",
    "```python\n",
    "# Convert 200 minutes into hours\r\n",
    "minutes = 200\r\n",
    "hours = minutes / 60\r\n",
    "hours\r\n"
   ]
  },
  {
   "cell_type": "markdown",
   "id": "daf52a6c-60b3-4d3f-b4ff-83df5bdf49b4",
   "metadata": {},
   "source": [
    "## Author:\n",
    "## Yasodha"
   ]
  },
  {
   "cell_type": "code",
   "execution_count": null,
   "id": "7972b10a-3ce4-4bcb-a040-aeb63bdf27be",
   "metadata": {},
   "outputs": [],
   "source": []
  }
 ],
 "metadata": {
  "kernelspec": {
   "display_name": "Python 3 (ipykernel)",
   "language": "python",
   "name": "python3"
  },
  "language_info": {
   "codemirror_mode": {
    "name": "ipython",
    "version": 3
   },
   "file_extension": ".py",
   "mimetype": "text/x-python",
   "name": "python",
   "nbconvert_exporter": "python",
   "pygments_lexer": "ipython3",
   "version": "3.12.0"
  }
 },
 "nbformat": 4,
 "nbformat_minor": 5
}
